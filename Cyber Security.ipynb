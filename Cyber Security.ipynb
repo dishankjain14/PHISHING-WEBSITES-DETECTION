{
 "cells": [
  {
   "cell_type": "code",
   "execution_count": 9,
   "id": "c199f269",
   "metadata": {},
   "outputs": [
    {
     "name": "stdout",
     "output_type": "stream",
     "text": [
      "Data shape: (5000, 22)\n",
      "Columns: Index(['url', 'length_url', 'nb_dots', 'nb_hyphens', 'length_hostname',\n",
      "       'nb_qm', 'nb_and', 'nb_eq', 'https_token', 'ratio_digits_url',\n",
      "       'ratio_digits_host', 'domain_registration_length', 'domain_age',\n",
      "       'web_traffic', 'dns_record', 'google_index', 'page_rank', 'phish_hints',\n",
      "       'suspecious_tld', 'login_form', 'external_favicon', 'status'],\n",
      "      dtype='object')\n"
     ]
    }
   ],
   "source": [
    "import pandas as pd\n",
    "from sklearn.model_selection import train_test_split\n",
    "from sklearn.preprocessing import LabelEncoder\n",
    "import warnings\n",
    "warnings.filterwarnings('ignore')\n",
    "\n",
    "# Load the dataset (adjust the file path if necessary)\n",
    "file_path = (r'C:\\Users\\disha\\Desktop\\Cyber\\phishingdataset.csv')\n",
    "df = pd.read_csv(file_path)\n",
    "\n",
    "# Select only 5000 rows for training and testing\n",
    "df = df.sample(5000, random_state=42).reset_index(drop=True)\n",
    "\n",
    "# Display basic info about the dataset\n",
    "print(\"Data shape:\", df.shape)\n",
    "print(\"Columns:\", df.columns)\n"
   ]
  },
  {
   "cell_type": "code",
   "execution_count": 10,
   "id": "3cbea62b",
   "metadata": {},
   "outputs": [
    {
     "name": "stdout",
     "output_type": "stream",
     "text": [
      "    url  length_url  nb_dots  nb_hyphens  length_hostname  nb_qm  nb_and  \\\n",
      "0  4703          35        2           0               11      0       0   \n",
      "1  1427          22        2           0               15      0       0   \n",
      "2  4969          43        2           1               15      1       0   \n",
      "3  1948          26        2           0               18      0       0   \n",
      "4  1212          62        2           1               13      1       0   \n",
      "\n",
      "   nb_eq  https_token  ratio_digits_url  ...  domain_age  web_traffic  \\\n",
      "0      0            0          0.000000  ...       11039       178542   \n",
      "1      0            1          0.000000  ...          -1            0   \n",
      "2      1            0          0.000000  ...        5636            2   \n",
      "3      0            1          0.153846  ...        1938      2636665   \n",
      "4      1            1          0.016129  ...        1853            0   \n",
      "\n",
      "   dns_record  google_index  page_rank  phish_hints  suspecious_tld  \\\n",
      "0           0             0          5            0               0   \n",
      "1           0             0          2            0               0   \n",
      "2           0             0         10            0               0   \n",
      "3           0             0          4            0               0   \n",
      "4           0             1          2            2               0   \n",
      "\n",
      "   login_form  external_favicon  status  \n",
      "0           0                 0       0  \n",
      "1           0                 1       0  \n",
      "2           0                 1       0  \n",
      "3           1                 1       0  \n",
      "4           0                 0       1  \n",
      "\n",
      "[5 rows x 22 columns]\n"
     ]
    }
   ],
   "source": [
    "# Handling missing values (fill with mean for numeric, mode for categorical)\n",
    "for col in df.columns:\n",
    "    if df[col].dtype == 'object':\n",
    "        df[col].fillna(df[col].mode()[0], inplace=True)\n",
    "    else:\n",
    "        df[col].fillna(df[col].mean(), inplace=True)\n",
    "\n",
    "# Encode categorical columns\n",
    "label_encoders = {}\n",
    "for col in df.select_dtypes(include=['object']).columns:\n",
    "    le = LabelEncoder()\n",
    "    df[col] = le.fit_transform(df[col])\n",
    "    label_encoders[col] = le\n",
    "\n",
    "# Check the updated data\n",
    "print(df.head())\n"
   ]
  },
  {
   "cell_type": "code",
   "execution_count": 22,
   "id": "d2818eb7",
   "metadata": {},
   "outputs": [
    {
     "name": "stdout",
     "output_type": "stream",
     "text": [
      "Training set size: (3500, 21)\n",
      "Testing set size: (1500, 21)\n"
     ]
    }
   ],
   "source": [
    "# Define features and target\n",
    "X = df.drop('login_form', axis=1)  # Adjust the column name as needed\n",
    "y = df['login_form']\n",
    "\n",
    "# Split the data into training and testing sets\n",
    "X_train, X_test, y_train, y_test = train_test_split(X, y, test_size=0.3, random_state=42, stratify=y)\n",
    "\n",
    "print(\"Training set size:\", X_train.shape)\n",
    "print(\"Testing set size:\", X_test.shape)\n"
   ]
  },
  {
   "cell_type": "code",
   "execution_count": 12,
   "id": "198b8aa9",
   "metadata": {},
   "outputs": [
    {
     "name": "stdout",
     "output_type": "stream",
     "text": [
      "Accuracy: 0.9453333333333334\n",
      "\n",
      "Classification Report:\n",
      "               precision    recall  f1-score   support\n",
      "\n",
      "           0       0.95      0.94      0.94       746\n",
      "           1       0.94      0.95      0.95       754\n",
      "\n",
      "    accuracy                           0.95      1500\n",
      "   macro avg       0.95      0.95      0.95      1500\n",
      "weighted avg       0.95      0.95      0.95      1500\n",
      "\n",
      "\n",
      "Confusion Matrix:\n",
      " [[704  42]\n",
      " [ 40 714]]\n"
     ]
    }
   ],
   "source": [
    "from sklearn.ensemble import RandomForestClassifier\n",
    "from sklearn.metrics import accuracy_score, classification_report, confusion_matrix\n",
    "import matplotlib.pyplot as plt\n",
    "from sklearn.metrics import roc_curve, auc\n",
    "\n",
    "# Train a Random Forest classifier\n",
    "rf_model = RandomForestClassifier(n_estimators=100, random_state=42)\n",
    "rf_model.fit(X_train, y_train)\n",
    "\n",
    "# Predict on test data\n",
    "y_pred = rf_model.predict(X_test)\n",
    "\n",
    "# Evaluate the model\n",
    "print(\"Accuracy:\", accuracy_score(y_test, y_pred))\n",
    "print(\"\\nClassification Report:\\n\", classification_report(y_test, y_pred))\n",
    "print(\"\\nConfusion Matrix:\\n\", confusion_matrix(y_test, y_pred))\n"
   ]
  },
  {
   "cell_type": "code",
   "execution_count": 13,
   "id": "45cec825",
   "metadata": {},
   "outputs": [
    {
     "data": {
      "image/png": "[encoded data removed]",
      "text/plain": [
       "<Figure size 800x600 with 1 Axes>"
      ]
     },
     "metadata": {},
     "output_type": "display_data"
    }
   ],
   "source": [
    "# Plot ROC curve\n",
    "y_proba = rf_model.predict_proba(X_test)[:, 1]\n",
    "fpr, tpr, _ = roc_curve(y_test, y_proba)\n",
    "roc_auc = auc(fpr, tpr)\n",
    "\n",
    "plt.figure(figsize=(8, 6))\n",
    "plt.plot(fpr, tpr, color='blue', lw=2, label='ROC curve (area = %0.2f)' % roc_auc)\n",
    "plt.plot([0, 1], [0, 1], color='red', lw=2, linestyle='--')\n",
    "plt.xlim([0.0, 1.0])\n",
    "plt.ylim([0.0, 1.05])\n",
    "plt.xlabel('False Positive Rate')\n",
    "plt.ylabel('True Positive Rate')\n",
    "plt.title('Receiver Operating Characteristic (ROC) Curve')\n",
    "plt.legend(loc=\"lower right\")\n",
    "plt.show()\n"
   ]
  },
  {
   "cell_type": "code",
   "execution_count": 15,
   "id": "2d742126",
   "metadata": {},
   "outputs": [
    {
     "name": "stdout",
     "output_type": "stream",
     "text": [
      "Accuracy: 0.95\n",
      "              precision    recall  f1-score   support\n",
      "\n",
      "           0       0.95      0.94      0.94       746\n",
      "           1       0.94      0.95      0.95       754\n",
      "\n",
      "    accuracy                           0.95      1500\n",
      "   macro avg       0.95      0.95      0.95      1500\n",
      "weighted avg       0.95      0.95      0.95      1500\n",
      "\n",
      "Confusion Matrix:\n",
      "[[704  42]\n",
      " [ 40 714]]\n"
     ]
    }
   ],
   "source": [
    "# Initialize the Random Forest Classifier\n",
    "model = RandomForestClassifier(n_estimators=100, random_state=42)\n",
    "\n",
    "# Train the model\n",
    "model.fit(X_train, y_train)\n",
    "\n",
    "# Make predictions\n",
    "y_pred = model.predict(X_test)\n",
    "\n",
    "# Evaluate the model\n",
    "accuracy = accuracy_score(y_test, y_pred)\n",
    "print(f'Accuracy: {accuracy:.2f}')\n",
    "\n",
    "# Print the classification report\n",
    "print(classification_report(y_test, y_pred))\n",
    "\n",
    "# Display the confusion matrix\n",
    "print('Confusion Matrix:')\n",
    "print(confusion_matrix(y_test, y_pred))\n"
   ]
  },
  {
   "cell_type": "code",
   "execution_count": 17,
   "id": "2a91d78a",
   "metadata": {},
   "outputs": [
    {
     "name": "stdout",
     "output_type": "stream",
     "text": [
      "Model saved as 'phishing_model.pkl'\n"
     ]
    }
   ],
   "source": [
    "import joblib\n",
    "\n",
    "# Save the trained model\n",
    "joblib.dump(model, 'phishing_model.pkl')\n",
    "print(\"Model saved as 'phishing_model.pkl'\")\n"
   ]
  },
  {
   "cell_type": "code",
   "execution_count": 18,
   "id": "3ea1029c",
   "metadata": {},
   "outputs": [
    {
     "name": "stderr",
     "output_type": "stream",
     "text": [
      "2024-10-24 09:28:25.144 \n",
      "  \u001b[33m\u001b[1mWarning:\u001b[0m to view this Streamlit app on a browser, run it with the following\n",
      "  command:\n",
      "\n",
      "    streamlit run C:\\Users\\disha\\AppData\\Roaming\\Python\\Python311\\site-packages\\ipykernel_launcher.py [ARGUMENTS]\n"
     ]
    }
   ],
   "source": [
    "# app.py\n",
    "import streamlit as st\n",
    "import pandas as pd\n",
    "import numpy as np\n",
    "import joblib\n",
    "\n",
    "# Load the trained model\n",
    "model = joblib.load('phishing_model.pkl')\n",
    "\n",
    "# Define feature input function\n",
    "def extract_input_features():\n",
    "    length_url = st.number_input('Length of URL', value=50)\n",
    "    length_hostname = st.number_input('Length of Hostname', value=20)\n",
    "    nb_dots = st.number_input('Number of Dots', value=2)\n",
    "    nb_hyphens = st.number_input('Number of Hyphens', value=1)\n",
    "    nb_at = st.number_input('Number of @ symbols', value=0)\n",
    "    nb_qm = st.number_input('Number of Question Marks', value=0)\n",
    "    nb_and = st.number_input('Number of & symbols', value=0)\n",
    "    nb_eq = st.number_input('Number of Equal signs', value=0)\n",
    "    nb_underscore = st.number_input('Number of Underscores', value=0)\n",
    "    nb_percent = st.number_input('Number of Percent symbols', value=0)\n",
    "    nb_slash = st.number_input('Number of Slashes', value=5)\n",
    "    nb_colon = st.number_input('Number of Colons', value=1)\n",
    "    nb_subdomains = st.number_input('Number of Subdomains', value=1)\n",
    "    prefix_suffix = st.number_input('Prefix Suffix', value=0)\n",
    "    random_domain = st.number_input('Random Domain', value=0)\n",
    "    web_traffic = st.number_input('Web Traffic', value=500)\n",
    "    page_rank = st.number_input('Page Rank', value=1)\n",
    "\n",
    "    features = np.array([length_url, length_hostname, nb_dots, nb_hyphens, nb_at,\n",
    "                         nb_qm, nb_and, nb_eq, nb_underscore, nb_percent, nb_slash,\n",
    "                         nb_colon, nb_subdomains, prefix_suffix, random_domain,\n",
    "                         web_traffic, page_rank]).reshape(1, -1)\n",
    "    return features\n",
    "\n",
    "# Streamlit app UI\n",
    "st.title('Phishing Website Detection')\n",
    "st.write('Enter the details of the URL to predict if it is phishing or legitimate.')\n",
    "\n",
    "input_features = extract_input_features()\n",
    "\n",
    "if st.button('Predict'):\n",
    "    prediction = model.predict(input_features)\n",
    "    result = 'Phishing' if prediction[0] == 1 else 'Legitimate'\n",
    "    st.write(f'The website is predicted as: **{result}**')\n"
   ]
  }
 ],
 "metadata": {
  "kernelspec": {
   "display_name": "Python 3",
   "language": "python",
   "name": "python3"
  },
  "language_info": {
   "codemirror_mode": {
    "name": "ipython",
    "version": 3
   },
   "file_extension": ".py",
   "mimetype": "text/x-python",
   "name": "python",
   "nbconvert_exporter": "python",
   "pygments_lexer": "ipython3",
   "version": "3.11.5"
  }
 },
 "nbformat": 4,
 "nbformat_minor": 5
}
